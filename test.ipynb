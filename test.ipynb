{
 "cells": [
  {
   "cell_type": "code",
   "execution_count": 1,
   "metadata": {},
   "outputs": [
    {
     "name": "stderr",
     "output_type": "stream",
     "text": [
      "CUDA not available - defaulting to CPU. Note: This module is much faster with a GPU.\n"
     ]
    },
    {
     "name": "stdout",
     "output_type": "stream",
     "text": [
      "Circle K/ Irving\n",
      "7037\n",
      "284 CivIC CENTER DR\n",
      "AUGUSTA ME 04330-8\n",
      "(207) 623-3489\n",
      "Term\n",
      "720000097947102\n",
      "Appr 078855\n",
      "Trace: 00206239\n",
      "7 UNLEADED\n",
      "PUMP No 07\n",
      "Gallons 13.744\n",
      "PRICE/G $2.299\n",
      "TOTAL FUEL $31.60\n",
      "TOTAL SALE $31.60\n",
      "SALE\n",
      "Debit\n",
      "Card Num (S)\n",
      ":\n",
      "XxxxxxxXXXXX1707\n",
      "04/08/2017 08:53:55\n",
      "I agree to pay the\n",
      "above Total Amount\n"
     ]
    },
    {
     "name": "stderr",
     "output_type": "stream",
     "text": [
      "r:\\Programming\\Receipt extraction\\main.py:32: VisibleDeprecationWarning: Creating an ndarray from ragged nested sequences (which is a list-or-tuple of lists-or-tuples-or ndarrays with different lengths or shapes) is deprecated. If you meant to do this, you must specify 'dtype=object' when creating the ndarray.\n",
      "  lines = np.unique(np.array([i.tolist() for i in lines]))\n"
     ]
    }
   ],
   "source": [
    "from main import get_lines_cls as glc\n",
    "get_lines = glc().get_lines\n",
    "\n",
    "image_name = 'resources/data/1.jpeg'\n",
    "all_lines = get_lines(image_name)\n",
    "\n",
    "for i in all_lines:\n",
    "    print(i)"
   ]
  },
  {
   "cell_type": "code",
   "execution_count": null,
   "metadata": {},
   "outputs": [],
   "source": []
  }
 ],
 "metadata": {
  "interpreter": {
   "hash": "2b215b4b3ff72a62515a054be5cd435dcd530f8c8bb3b4b66071f63b23803fb8"
  },
  "kernelspec": {
   "display_name": "Python 3.9.6 64-bit",
   "language": "python",
   "name": "python3"
  },
  "language_info": {
   "codemirror_mode": {
    "name": "ipython",
    "version": 3
   },
   "file_extension": ".py",
   "mimetype": "text/x-python",
   "name": "python",
   "nbconvert_exporter": "python",
   "pygments_lexer": "ipython3",
   "version": "3.9.6"
  },
  "orig_nbformat": 4
 },
 "nbformat": 4,
 "nbformat_minor": 2
}
