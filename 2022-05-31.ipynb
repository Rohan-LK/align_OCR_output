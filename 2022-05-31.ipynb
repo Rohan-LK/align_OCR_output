{
 "cells": [
  {
   "cell_type": "code",
   "execution_count": 1,
   "metadata": {},
   "outputs": [
    {
     "name": "stderr",
     "output_type": "stream",
     "text": [
      "CUDA not available - defaulting to CPU. Note: This module is much faster with a GPU.\n"
     ]
    }
   ],
   "source": [
    "from easyocr import Reader\n",
    "reader = Reader(['en'], model_storage_directory='resources/easyocr_model', download_enabled=False)\n"
   ]
  },
  {
   "cell_type": "code",
   "execution_count": 2,
   "metadata": {},
   "outputs": [],
   "source": [
    "result = reader.readtext('resources/data/1.jpeg')"
   ]
  },
  {
   "cell_type": "code",
   "execution_count": 3,
   "metadata": {},
   "outputs": [
    {
     "name": "stdout",
     "output_type": "stream",
     "text": [
      "([[189, 255], [313, 255], [313, 297], [189, 297]], 'CivIC', 0.31805146652389776)\n",
      "([[328, 256], [479, 256], [479, 301], [328, 301]], 'CENTER', 0.9686952337941204)\n",
      "([[493, 261], [549, 261], [549, 301], [493, 301]], 'DR', 0.9424942070593461)\n",
      "([[91, 297], [268, 297], [268, 345], [91, 345]], 'AUGUSTA', 0.9914136159550877)\n",
      "================================================================================\n",
      "([[189, 255], [313, 255], [313, 297], [189, 297]], 'CivIC', 0.31805146652389776)\n",
      "[[189, 255], [313, 255], [313, 297], [189, 297]]\n",
      "[189, 255]\n",
      "255\n"
     ]
    }
   ],
   "source": [
    "for i in result[4:8]:\n",
    "    print(i)\n",
    "\n",
    "print('='*80)\n",
    "i = 4\n",
    "box = result[i] ; print(box)\n",
    "coords = result[i][0] ; print(coords)\n",
    "bottom_left = result[i][0][0] ; print(bottom_left)\n",
    "bottom_left_y = result[i][0][0][1] ; print(bottom_left_y)"
   ]
  },
  {
   "cell_type": "code",
   "execution_count": null,
   "metadata": {},
   "outputs": [],
   "source": []
  },
  {
   "cell_type": "code",
   "execution_count": 4,
   "metadata": {},
   "outputs": [
    {
     "name": "stdout",
     "output_type": "stream",
     "text": [
      "[list([0, 1]) list([2]) list([3, 4, 5, 6]) list([7, 8, 9]) list([10, 11])\n",
      " list([12]) list([13]) list([14, 15]) list([16, 17]) list([18, 19])\n",
      " list([20, 21, 22]) list([23, 24]) list([25, 26]) list([27, 28, 29])\n",
      " list([30, 31, 32]) list([33]) list([34]) list([35, 36, 38]) list([37])\n",
      " list([39]) list([40, 41]) list([42, 43, 44, 45, 46]) list([47, 48, 49])]\n"
     ]
    },
    {
     "name": "stderr",
     "output_type": "stream",
     "text": [
      "C:\\Users\\rlksh\\AppData\\Local\\Temp/ipykernel_12112/3479945023.py:25: VisibleDeprecationWarning: Creating an ndarray from ragged nested sequences (which is a list-or-tuple of lists-or-tuples-or ndarrays with different lengths or shapes) is deprecated. If you meant to do this, you must specify 'dtype=object' when creating the ndarray.\n",
      "  lines = np.unique(np.array([i.tolist() for i in lines]))\n"
     ]
    }
   ],
   "source": [
    "import numpy as np\n",
    "\n",
    "bottom_left_y_list = []\n",
    "for i in range(len(result)):\n",
    "    bottom_left_y = result[i][0][0][1]\n",
    "    bottom_left_y_list.append(bottom_left_y)\n",
    "# print(bottom_left_y_list)\n",
    "\n",
    "\n",
    "lines = []\n",
    "for i in range(len(bottom_left_y_list)):\n",
    "    new_line = []\n",
    "    new_line.append(i)\n",
    "    for j in range(len(bottom_left_y_list)):\n",
    "        if i!=j:\n",
    "            if bottom_left_y_list[j] < bottom_left_y_list[i]+10 and bottom_left_y_list[j] > bottom_left_y_list[i]-10:\n",
    "                new_line.append(j) ; #print(\"ele: \", j)\n",
    "            else:\n",
    "                pass\n",
    "        else:\n",
    "            pass\n",
    "    # print(\"NL: \",np.sort(new_line))\n",
    "    lines.append(np.sort(new_line))\n",
    "\n",
    "lines = np.unique(np.array([i.tolist() for i in lines]))\n",
    "print(lines)\n"
   ]
  },
  {
   "cell_type": "code",
   "execution_count": 5,
   "metadata": {},
   "outputs": [
    {
     "name": "stdout",
     "output_type": "stream",
     "text": [
      "Circle K/ Irving\n",
      "7037\n",
      "284 CivIC CENTER DR\n",
      "AUGUSTA ME 04330-8\n",
      "(207) 623-3489\n",
      "Term\n",
      "720000097947102\n",
      "Appr 078855\n",
      "Trace: 00206239\n",
      "7 UNLEADED\n",
      "PUMP No 07\n",
      "Gallons 13.744\n",
      "PRICE/G $2.299\n",
      "TOTAL FUEL $31.60\n",
      "TOTAL SALE $31.60\n",
      "SALE\n",
      "Debit\n",
      "Card Num (S)\n",
      ":\n",
      "XxxxxxxXXXXX1707\n",
      "04/08/2017 08:53:55\n",
      "I agree to pay the\n",
      "above Total Amount\n"
     ]
    }
   ],
   "source": [
    "for i in lines:\n",
    "    a_line = []\n",
    "    # print(i)\n",
    "    for j in i:\n",
    "        a_line.append(result[j][1])\n",
    "    print(' '.join(a_line))"
   ]
  },
  {
   "cell_type": "code",
   "execution_count": null,
   "metadata": {},
   "outputs": [],
   "source": []
  }
 ],
 "metadata": {
  "interpreter": {
   "hash": "2b215b4b3ff72a62515a054be5cd435dcd530f8c8bb3b4b66071f63b23803fb8"
  },
  "kernelspec": {
   "display_name": "Python 3.9.6 64-bit",
   "language": "python",
   "name": "python3"
  },
  "language_info": {
   "codemirror_mode": {
    "name": "ipython",
    "version": 3
   },
   "file_extension": ".py",
   "mimetype": "text/x-python",
   "name": "python",
   "nbconvert_exporter": "python",
   "pygments_lexer": "ipython3",
   "version": "3.9.6"
  },
  "orig_nbformat": 4
 },
 "nbformat": 4,
 "nbformat_minor": 2
}
